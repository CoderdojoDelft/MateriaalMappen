{
 "cells": [
  {
   "cell_type": "code",
   "execution_count": 54,
   "metadata": {},
   "outputs": [],
   "source": [
    "from collections import namedtuple\n",
    "import qrcode\n",
    "from matplotlib.pyplot import imshow\n",
    "import numpy as np\n",
    "from PIL import Image\n",
    "# from IPython.display import display\n",
    "%matplotlib inline\n",
    "import uuid\n",
    "from IPython.core.display import HTML"
   ]
  },
  {
   "cell_type": "code",
   "execution_count": 55,
   "metadata": {},
   "outputs": [],
   "source": [
    "Task = namedtuple('Task', ['title', 'url', 'level', 'language'])"
   ]
  },
  {
   "cell_type": "code",
   "execution_count": 56,
   "metadata": {},
   "outputs": [],
   "source": [
    "# Python opdrachten\n",
    "python_tasks = [\n",
    "    Task('Nummer raden', 'https://drive.google.com/open?id=0B5ue9rJQ-LwBaVprWVBkSzVFUDA', 'beginner', 'Python'),\n",
    "    Task('Palindromen zoeken', 'https://drive.google.com/open?id=0B5ue9rJQ-LwBdGFVeFpHQW5QZFU', 'gevorderd', 'Python')\n",
    "]"
   ]
  },
  {
   "cell_type": "code",
   "execution_count": 57,
   "metadata": {},
   "outputs": [],
   "source": [
    "# Scratch opdrachten"
   ]
  },
  {
   "cell_type": "code",
   "execution_count": 59,
   "metadata": {},
   "outputs": [],
   "source": [
    "# Create report in HTML\n",
    "html_report = ''\n",
    "for task in python_tasks:\n",
    "    html_report += '<h1>{}</h1><br><br>'.format(task.title)\n",
    "    img = qrcode.make(task.url)\n",
    "    name = str(uuid.uuid4()) + '.png'\n",
    "    img.save(name, \"PNG\")\n",
    "    html_report += '<img src=\"{}\" alt=\"Mountain View\">.'.format(name)"
   ]
  },
  {
   "cell_type": "code",
   "execution_count": 60,
   "metadata": {},
   "outputs": [
    {
     "data": {
      "text/html": [
       "<h1>Nummer raden</h1><br><br><img src=\"c7048dba-4726-4b76-8775-f47a9ffd1d9b.png\" alt=\"Mountain View\">.<h1>Palindromen zoeken</h1><br><br><img src=\"bc4916fb-f281-4401-aaa3-01993da16d55.png\" alt=\"Mountain View\">."
      ],
      "text/plain": [
       "<IPython.core.display.HTML object>"
      ]
     },
     "execution_count": 60,
     "metadata": {},
     "output_type": "execute_result"
    }
   ],
   "source": [
    "# %%html\n",
    "HTML(html_report)"
   ]
  },
  {
   "cell_type": "code",
   "execution_count": null,
   "metadata": {},
   "outputs": [],
   "source": []
  }
 ],
 "metadata": {
  "kernelspec": {
   "display_name": "Python 2",
   "language": "python",
   "name": "python2"
  },
  "language_info": {
   "codemirror_mode": {
    "name": "ipython",
    "version": 2
   },
   "file_extension": ".py",
   "mimetype": "text/x-python",
   "name": "python",
   "nbconvert_exporter": "python",
   "pygments_lexer": "ipython2",
   "version": "2.7.14"
  }
 },
 "nbformat": 4,
 "nbformat_minor": 2
}
