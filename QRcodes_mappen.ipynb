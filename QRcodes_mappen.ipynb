{
 "cells": [
  {
   "cell_type": "code",
   "execution_count": 5,
   "metadata": {
    "collapsed": true
   },
   "outputs": [
    {
     "name": "stdout",
     "output_type": "stream",
     "text": [
      "Fetching package metadata ...............\n",
      "Solving package specifications: .\n",
      "\n",
      "Package plan for installation in environment /home/nbuser/anaconda2_501:\n",
      "\n",
      "The following NEW packages will be INSTALLED:\n",
      "\n",
      "    qrcode:    6.0-py_0             conda-forge\n",
      "    readline:  7.0-ha6073c6_4                  \n",
      "\n",
      "The following packages will be UPDATED:\n",
      "\n",
      "    conda:     4.3.29-py27_0        conda-forge --> 4.5.1-py27_0        \n",
      "    conda-env: 2.6.0-0                          --> 2.6.0-h36134e3_1    \n",
      "    pycosat:   0.6.2-py27h1cf261c_1             --> 0.6.3-py27ha4109ae_0\n",
      "\n",
      "conda-env-2.6. 100% |################################| Time: 0:00:00 340.09 kB/s\n",
      "readline-7.0-h 100% |################################| Time: 0:00:00   4.61 MB/s#########                     | Time: 0:00:00   4.95 MB/s       | Time: 0:00:00   4.10 MB/s\n",
      "pycosat-0.6.3- 100% |################################| Time: 0:00:00   6.01 MB/s\n",
      "qrcode-6.0-py_ 100% |################################| Time: 0:00:00 392.02 kB/s\n",
      "conda-4.5.1-py 100% |################################| Time: 0:00:00   9.85 MB/s##########                    | Time: 0:00:00  10.15 MB/s\n"
     ]
    }
   ],
   "source": [
    "!conda install qrcode -y"
   ]
  },
  {
   "cell_type": "code",
   "execution_count": 25,
   "metadata": {
    "collapsed": true
   },
   "outputs": [
    {
     "name": "stdout",
     "output_type": "stream",
     "text": [
      "Collecting weasyprint\n",
      "  Downloading https://files.pythonhosted.org/packages/7e/4c/cf2ec7abf7f84a2d1325d01dcac1d4bcb77f41117101fe564eb76952c65f/WeasyPrint-0.42.3.tar.gz (399kB)\n",
      "\u001b[K    100% |████████████████████████████████| 409kB 604kB/s ta 0:00:011\n",
      "\u001b[?25hRequirement already satisfied: html5lib>=0.999999999 in /home/nbuser/anaconda2_501/lib/python2.7/site-packages (from weasyprint)\n",
      "Collecting tinycss2>=0.5 (from weasyprint)\n",
      "  Downloading https://files.pythonhosted.org/packages/88/95/0ec73db7fc638ec000e662936ffe1a4e1eaa22f2861c8de18b1597c42584/tinycss2-0.6.1-py2.py3-none-any.whl (61kB)\n",
      "\u001b[K    100% |████████████████████████████████| 71kB 2.3MB/s eta 0:00:01\n",
      "\u001b[?25hCollecting cssselect2>=0.1 (from weasyprint)\n",
      "  Downloading https://files.pythonhosted.org/packages/12/e2/91fcd4cd32545beec6e11628d64d3e20f11b5a95dd1ccf3216fd69f176b7/cssselect2-0.2.1-py2.py3-none-any.whl\n",
      "Requirement already satisfied: cffi>=0.6 in /home/nbuser/anaconda2_501/lib/python2.7/site-packages (from weasyprint)\n",
      "Collecting cairocffi>=0.5 (from weasyprint)\n",
      "  Downloading https://files.pythonhosted.org/packages/85/89/1a6385420cd69bf2dde568946d9136ac3e549881618adff9ad9646f3df31/cairocffi-0.8.0.tar.gz (79kB)\n",
      "\u001b[K    100% |████████████████████████████████| 81kB 2.5MB/s eta 0:00:01\n",
      "\u001b[?25hCollecting Pyphen>=0.8 (from weasyprint)\n",
      "  Downloading https://files.pythonhosted.org/packages/dd/c4/74859f895e2361d92cfbb6208ea7afd06c2f1f05c491da71cbd7ce3887be/Pyphen-0.9.4-py2.py3-none-any.whl (1.9MB)\n",
      "\u001b[K    100% |████████████████████████████████| 2.0MB 141kB/s eta 0:00:01\n",
      "\u001b[?25hCollecting pdfrw>=0.4 (from weasyprint)\n",
      "  Downloading https://files.pythonhosted.org/packages/c0/84/af442c4458756bb0c0d2424102d1200616f3ff9b82c48aaa130e08549bf6/pdfrw-0.4-py2.py3-none-any.whl (69kB)\n",
      "\u001b[K    100% |████████████████████████████████| 71kB 2.1MB/s ta 0:00:011\n",
      "\u001b[?25hCollecting CairoSVG<2.0.0,>=1.0.20 (from weasyprint)\n",
      "  Downloading https://files.pythonhosted.org/packages/d9/9b/c241990c86faa9e52a01f0570bba4247ba0f3d66eae2607e179cb9ae773a/CairoSVG-1.0.22.tar.gz\n",
      "Requirement already satisfied: six in /home/nbuser/anaconda2_501/lib/python2.7/site-packages (from html5lib>=0.999999999->weasyprint)\n",
      "Requirement already satisfied: webencodings in /home/nbuser/anaconda2_501/lib/python2.7/site-packages (from html5lib>=0.999999999->weasyprint)\n",
      "Requirement already satisfied: setuptools>=18.5 in /home/nbuser/anaconda2_501/lib/python2.7/site-packages (from html5lib>=0.999999999->weasyprint)\n",
      "Requirement already satisfied: pycparser in /home/nbuser/anaconda2_501/lib/python2.7/site-packages (from cffi>=0.6->weasyprint)\n",
      "Building wheels for collected packages: weasyprint, cairocffi, CairoSVG\n",
      "  Running setup.py bdist_wheel for weasyprint ... \u001b[?25ldone\n",
      "\u001b[?25h  Stored in directory: /home/nbuser/.cache/pip/wheels/2b/1a/3f/bd019af7694ab3798944e2264f77bb6a0762bcfbd87569cdc4\n",
      "  Running setup.py bdist_wheel for cairocffi ... \u001b[?25ldone\n",
      "\u001b[?25h  Stored in directory: /home/nbuser/.cache/pip/wheels/9d/19/83/441e63f009146c9d8b1977159972d64cfaa1cea1d084fffc8b\n",
      "  Running setup.py bdist_wheel for CairoSVG ... \u001b[?25ldone\n",
      "\u001b[?25h  Stored in directory: /home/nbuser/.cache/pip/wheels/b0/f0/12/0c41649d33dbc95ce0188188feefc8f90aa877363322fd3ace\n",
      "Successfully built weasyprint cairocffi CairoSVG\n",
      "Installing collected packages: tinycss2, cssselect2, cairocffi, Pyphen, pdfrw, CairoSVG, weasyprint\n",
      "Successfully installed CairoSVG-1.0.22 Pyphen-0.9.4 cairocffi-0.8.0 cssselect2-0.2.1 pdfrw-0.4 tinycss2-0.6.1 weasyprint-0.42.3\n",
      "\u001b[33mYou are using pip version 9.0.3, however version 10.0.1 is available.\n",
      "You should consider upgrading via the 'pip install --upgrade pip' command.\u001b[0m\n"
     ]
    }
   ],
   "source": [
    "!pip install weasyprint"
   ]
  },
  {
   "cell_type": "code",
   "execution_count": 26,
   "metadata": {},
   "outputs": [],
   "source": [
    "from collections import namedtuple\n",
    "import qrcode\n",
    "from matplotlib.pyplot import imshow\n",
    "import numpy as np\n",
    "from PIL import Image\n",
    "# from IPython.display import display\n",
    "%matplotlib inline\n",
    "import uuid\n",
    "from IPython.core.display import HTML"
   ]
  },
  {
   "cell_type": "code",
   "execution_count": 27,
   "metadata": {},
   "outputs": [],
   "source": [
    "Task = namedtuple('Task', ['title', 'url', 'level', 'language'])"
   ]
  },
  {
   "cell_type": "markdown",
   "metadata": {},
   "source": [
    "### Levels:\n",
    "* Makkelijk\n",
    "* Middel\n",
    "* Moeilijk"
   ]
  },
  {
   "cell_type": "code",
   "execution_count": 28,
   "metadata": {},
   "outputs": [],
   "source": [
    "# Python opdrachten\n",
    "python_tasks = [\n",
    "    Task('Nummer raden', 'https://drive.google.com/open?id=0B5ue9rJQ-LwBaVprWVBkSzVFUDA', 'makkelijk', 'Python'),\n",
    "    Task('Palindromen zoeken', 'https://drive.google.com/open?id=0B5ue9rJQ-LwBdGFVeFpHQW5QZFU', 'middel', 'Python')\n",
    "]"
   ]
  },
  {
   "cell_type": "code",
   "execution_count": 29,
   "metadata": {},
   "outputs": [],
   "source": [
    "# Scratch opdrachten"
   ]
  },
  {
   "cell_type": "code",
   "execution_count": null,
   "metadata": {},
   "outputs": [],
   "source": [
    "\n",
    "\n",
    "  {% load static %}\n",
    "    <img src=\"{% static 'images/static.jpg' %}\" alt=\"\">\n",
    "and pass base_url in HTML class in views.py\n",
    "\n",
    "pdf_file = HTML(string=rendered_html, base_url=request.build_absolute_uri())\n",
    "html file\n",
    "\n",
    "<!DOCTYPE html>\n",
    "<html lang=\"en\">\n",
    "{% load static %}\n",
    "<head>\n",
    "    <meta charset=\"UTF-8\">\n",
    "    <title>Document</title>\n",
    "</head>\n",
    "<body>\n",
    "    <div>\n",
    "        <img src=\"{% static 'images/static.jpg' %}\" alt=\"\">\n",
    "    </div>\n",
    "</body>\n",
    "</html>"
   ]
  },
  {
   "cell_type": "code",
   "execution_count": 87,
   "metadata": {},
   "outputs": [],
   "source": [
    "# Create report in HTML\n",
    "#  {% load static %}\n",
    "html_report = '<!DOCTYPE html><html lang=\"en\"><head><meta charset=\"UTF-8\"><title>Index</title></head><body>'\n",
    "for task in python_tasks:\n",
    "    html_report += '<h1 align=\"center\">{}</h1><br><br>'.format(task.title)\n",
    "    img = qrcode.make(task.url)\n",
    "    name = task.title + '.png'\n",
    "    img.save(name, \"PNG\")\n",
    "    html_report += '<center><img src=\"{}\" alt=\"Mountain View\"></center>.'.format(name)\n",
    "html_report += '</body></html>'"
   ]
  },
  {
   "cell_type": "code",
   "execution_count": 88,
   "metadata": {},
   "outputs": [
    {
     "data": {
      "text/plain": [
       "'<!DOCTYPE html><html lang=\"en\"><head><meta charset=\"UTF-8\"><title>Index</title></head><body><h1 align=\"center\">Nummer raden</h1><br><br><center><img src=\"Nummer raden.png\" alt=\"Mountain View\"></center>.<h1 align=\"center\">Palindromen zoeken</h1><br><br><center><img src=\"Palindromen zoeken.png\" alt=\"Mountain View\"></center>.</body></html>'"
      ]
     },
     "execution_count": 88,
     "metadata": {},
     "output_type": "execute_result"
    }
   ],
   "source": [
    "html_report"
   ]
  },
  {
   "cell_type": "code",
   "execution_count": 89,
   "metadata": {},
   "outputs": [
    {
     "data": {
      "text/html": [
       "<!DOCTYPE html><html lang=\"en\"><head><meta charset=\"UTF-8\"><title>Index</title></head><body><h1 align=\"center\">Nummer raden</h1><br><br><center><img src=\"Nummer raden.png\" alt=\"Mountain View\"></center>.<h1 align=\"center\">Palindromen zoeken</h1><br><br><center><img src=\"Palindromen zoeken.png\" alt=\"Mountain View\"></center>.</body></html>"
      ],
      "text/plain": [
       "<IPython.core.display.HTML object>"
      ]
     },
     "execution_count": 89,
     "metadata": {},
     "output_type": "execute_result"
    }
   ],
   "source": [
    "# %%html\n",
    "HTML(html_report)"
   ]
  },
  {
   "cell_type": "code",
   "execution_count": 90,
   "metadata": {},
   "outputs": [],
   "source": [
    "# from weasyprint import HTML as wHTML\n",
    "# from weasyprint import HTML\n",
    "# HTML('http://weasyprint.org/').write_pdf('/tmp/weasyprint-website.pdf')\n",
    "# wHTML(string=html_report).write_pdf('Python.pdf')"
   ]
  },
  {
   "cell_type": "code",
   "execution_count": 91,
   "metadata": {},
   "outputs": [
    {
     "name": "stdout",
     "output_type": "stream",
     "text": [
      "Collecting pdfkit\n",
      "  Downloading https://files.pythonhosted.org/packages/d4/64/768bd1123d90b3f877dc184715c073e2e3ddc23c597cd381398df5b6dfa6/pdfkit-0.6.1-py2-none-any.whl\n",
      "Installing collected packages: pdfkit\n",
      "Successfully installed pdfkit-0.6.1\n",
      "\u001b[33mYou are using pip version 9.0.3, however version 10.0.1 is available.\n",
      "You should consider upgrading via the 'pip install --upgrade pip' command.\u001b[0m\n"
     ]
    }
   ],
   "source": [
    "!pip install pdfkit"
   ]
  },
  {
   "cell_type": "code",
   "execution_count": 92,
   "metadata": {},
   "outputs": [],
   "source": [
    "import pdfkit"
   ]
  },
  {
   "cell_type": "code",
   "execution_count": 93,
   "metadata": {},
   "outputs": [
    {
     "ename": "IOError",
     "evalue": "No wkhtmltopdf executable found: \"\"\nIf this file exists please check that this process can read it. Otherwise please install wkhtmltopdf - https://github.com/JazzCore/python-pdfkit/wiki/Installing-wkhtmltopdf",
     "output_type": "error",
     "traceback": [
      "\u001b[0;31m\u001b[0m",
      "\u001b[0;31mIOError\u001b[0mTraceback (most recent call last)",
      "\u001b[0;32m<ipython-input-93-fe925074559f>\u001b[0m in \u001b[0;36m<module>\u001b[0;34m()\u001b[0m\n\u001b[0;32m----> 1\u001b[0;31m \u001b[0mpdfkit\u001b[0m\u001b[0;34m.\u001b[0m\u001b[0mfrom_string\u001b[0m\u001b[0;34m(\u001b[0m\u001b[0mhtml_report\u001b[0m\u001b[0;34m,\u001b[0m \u001b[0;34m'python.pdf'\u001b[0m\u001b[0;34m)\u001b[0m\u001b[0;34m\u001b[0m\u001b[0m\n\u001b[0m",
      "\u001b[0;32m/home/nbuser/anaconda2_501/lib/python2.7/site-packages/pdfkit/api.pyc\u001b[0m in \u001b[0;36mfrom_string\u001b[0;34m(input, output_path, options, toc, cover, css, configuration, cover_first)\u001b[0m\n\u001b[1;32m     68\u001b[0m \u001b[0;34m\u001b[0m\u001b[0m\n\u001b[1;32m     69\u001b[0m     r = PDFKit(input, 'string', options=options, toc=toc, cover=cover, css=css,\n\u001b[0;32m---> 70\u001b[0;31m                configuration=configuration, cover_first=cover_first)\n\u001b[0m\u001b[1;32m     71\u001b[0m \u001b[0;34m\u001b[0m\u001b[0m\n\u001b[1;32m     72\u001b[0m     \u001b[0;32mreturn\u001b[0m \u001b[0mr\u001b[0m\u001b[0;34m.\u001b[0m\u001b[0mto_pdf\u001b[0m\u001b[0;34m(\u001b[0m\u001b[0moutput_path\u001b[0m\u001b[0;34m)\u001b[0m\u001b[0;34m\u001b[0m\u001b[0m\n",
      "\u001b[0;32m/home/nbuser/anaconda2_501/lib/python2.7/site-packages/pdfkit/pdfkit.pyc\u001b[0m in \u001b[0;36m__init__\u001b[0;34m(self, url_or_file, type_, options, toc, cover, css, configuration, cover_first)\u001b[0m\n\u001b[1;32m     40\u001b[0m \u001b[0;34m\u001b[0m\u001b[0m\n\u001b[1;32m     41\u001b[0m         \u001b[0mself\u001b[0m\u001b[0;34m.\u001b[0m\u001b[0msource\u001b[0m \u001b[0;34m=\u001b[0m \u001b[0mSource\u001b[0m\u001b[0;34m(\u001b[0m\u001b[0murl_or_file\u001b[0m\u001b[0;34m,\u001b[0m \u001b[0mtype_\u001b[0m\u001b[0;34m)\u001b[0m\u001b[0;34m\u001b[0m\u001b[0m\n\u001b[0;32m---> 42\u001b[0;31m         self.configuration = (Configuration() if configuration is None\n\u001b[0m\u001b[1;32m     43\u001b[0m                               else configuration)\n\u001b[1;32m     44\u001b[0m         \u001b[0;32mtry\u001b[0m\u001b[0;34m:\u001b[0m\u001b[0;34m\u001b[0m\u001b[0m\n",
      "\u001b[0;32m/home/nbuser/anaconda2_501/lib/python2.7/site-packages/pdfkit/configuration.pyc\u001b[0m in \u001b[0;36m__init__\u001b[0;34m(self, wkhtmltopdf, meta_tag_prefix)\u001b[0m\n\u001b[1;32m     25\u001b[0m                           \u001b[0;34m'If this file exists please check that this process can '\u001b[0m\u001b[0;34m\u001b[0m\u001b[0m\n\u001b[1;32m     26\u001b[0m                           \u001b[0;34m'read it. Otherwise please install wkhtmltopdf - '\u001b[0m\u001b[0;34m\u001b[0m\u001b[0m\n\u001b[0;32m---> 27\u001b[0;31m                           'https://github.com/JazzCore/python-pdfkit/wiki/Installing-wkhtmltopdf' % self.wkhtmltopdf)\n\u001b[0m",
      "\u001b[0;31mIOError\u001b[0m: No wkhtmltopdf executable found: \"\"\nIf this file exists please check that this process can read it. Otherwise please install wkhtmltopdf - https://github.com/JazzCore/python-pdfkit/wiki/Installing-wkhtmltopdf"
     ]
    }
   ],
   "source": [
    "pdfkit.from_string(html_report, 'python.pdf')"
   ]
  },
  {
   "cell_type": "code",
   "execution_count": null,
   "metadata": {},
   "outputs": [
    {
     "name": "stdout",
     "output_type": "stream",
     "text": [
      "[sudo] password for nbuser: "
     ]
    }
   ],
   "source": [
    "!sudo apt-get install wkhtmltopdf"
   ]
  },
  {
   "cell_type": "code",
   "execution_count": 77,
   "metadata": {},
   "outputs": [],
   "source": [
    "pdf_file = wHTML(string=html_report)"
   ]
  },
  {
   "cell_type": "code",
   "execution_count": 78,
   "metadata": {},
   "outputs": [
    {
     "data": {
      "text/plain": [
       "<weasyprint.HTML at 0x7f19bf06cd50>"
      ]
     },
     "execution_count": 78,
     "metadata": {},
     "output_type": "execute_result"
    }
   ],
   "source": [
    "pdf_file"
   ]
  },
  {
   "cell_type": "code",
   "execution_count": 79,
   "metadata": {},
   "outputs": [],
   "source": [
    "pdf_file.write_pdf('test.pdf')"
   ]
  },
  {
   "cell_type": "code",
   "execution_count": null,
   "metadata": {},
   "outputs": [],
   "source": []
  }
 ],
 "metadata": {
  "kernelspec": {
   "display_name": "Python 2",
   "language": "python",
   "name": "python2"
  },
  "language_info": {
   "codemirror_mode": {
    "name": "ipython",
    "version": 2
   },
   "file_extension": ".py",
   "mimetype": "text/x-python",
   "name": "python",
   "nbconvert_exporter": "python",
   "pygments_lexer": "ipython2",
   "version": "2.7.14"
  }
 },
 "nbformat": 4,
 "nbformat_minor": 2
}
