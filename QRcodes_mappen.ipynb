{
 "cells": [
  {
   "cell_type": "code",
   "execution_count": 46,
   "metadata": {},
   "outputs": [],
   "source": [
    "from collections import namedtuple\n",
    "import qrcode\n",
    "from matplotlib.pyplot import imshow\n",
    "import numpy as np\n",
    "from PIL import Image\n",
    "%matplotlib inline\n",
    "import uuid\n",
    "from IPython.core.display import HTML"
   ]
  },
  {
   "cell_type": "code",
   "execution_count": 47,
   "metadata": {},
   "outputs": [],
   "source": [
    "Task = namedtuple('Task', ['title', 'url', 'level', 'language'])"
   ]
  },
  {
   "cell_type": "markdown",
   "metadata": {},
   "source": [
    "### Levels:\n",
    "* Makkelijk\n",
    "* Middel\n",
    "* Moeilijk"
   ]
  },
  {
   "cell_type": "code",
   "execution_count": 48,
   "metadata": {},
   "outputs": [],
   "source": [
    "# Python opdrachten\n",
    "python_tasks = [\n",
    "    Task('Nummer raden', 'https://drive.google.com/open?id=0B5ue9rJQ-LwBaVprWVBkSzVFUDA', 'Makkelijk', 'Python'),\n",
    "    Task('Palindromen zoeken', 'https://drive.google.com/open?id=0B5ue9rJQ-LwBdGFVeFpHQW5QZFU', 'Middel', 'Python')\n",
    "]"
   ]
  },
  {
   "cell_type": "code",
   "execution_count": 49,
   "metadata": {},
   "outputs": [],
   "source": [
    "# Scratch opdrachten\n",
    "scratch_tasks = [\n",
    "    Task('Inloggen en wachtwoord/account aanmaken', None, 'Level 0', 'Scratch'),\n",
    "    Task('Verander de kleur, topper voor begin, boel kleine opdrachtjes', None, 'Makkelijk', 'Scratch'),\n",
    "    Task('Kunst', None, 'Makkelijk', 'Scratch'),\n",
    "    Task('Draak', 'https://drive.google.com/file/d/0B-5aZIp2Sz0yVUVKYTQ0cVQ1b3c/view', 'Makkelijk', 'Scratch'),\n",
    "    Task('Analoge klok (graden, cirkel)', 'https://drive.google.com/drive/folders/1Q_wJ2WQjFax9Ecx3nwR_hJ6DGu2U2cRI', 'Middel', 'Scratch'),\n",
    "    Task('Vraag/antwoord', None, 'Middel', 'Scratch'),\n",
    "    Task('Break Dancer', None, 'Middel', 'Scratch'),\n",
    "    Task('Pong', 'https://drive.google.com/file/d/0B-5aZIp2Sz0yRUFRVkFYZzdXRlU/view', 'Middel', 'Scratch'),\n",
    "    Task('Heks', 'https://drive.google.com/file/d/0B-5aZIp2Sz0yRWJZS2tLZTN2Vm8/view', 'Middel', 'Scratch'),\n",
    "    Task('Muziek maken met Scratch', 'https://drive.google.com/file/d/1uuPJ-wixa6pC3rImci5FzTGXpNuFgE2C/view', 'Middel', 'Scratch'),\n",
    "    Task('Racebaan', 'https://drive.google.com/file/d/0B-5aZIp2Sz0yY0JocVk5bnRieWM/view', 'Moeilijk', 'Scratch'),\n",
    "    Task('Flappy Bird', 'http://scratchweb.nl/sites/default/files/bijlage/Scratchweb/Leskaart%20Flappy%20Bird.pdf', 'Moeilijk', 'Scratch'),\n",
    "    Task('Snake', ' http://scratchweb.nl/sites/default/files/bijlage/Scratchweb/Leskaart%20Snake_0.pdf', 'Moeilijk', 'Scratch'),\n",
    "    Task('Honkbal', 'https://drive.google.com/file/d/0B-5aZIp2Sz0ySVlpTlhJLWt5ZVk/view', 'Moeilijk', 'Scratch'),\n",
    "    Task('Trefbal', 'https://drive.google.com/file/d/0B-5aZIp2Sz0yX3pSVTBVaHZsZHM/view', 'Moeilijk', 'Scratch'),\n",
    "    Task('Super Dojo', 'https://drive.google.com/file/d/0B-NwRJ9NsROUZ0tveHNlZzY4VFU/view', 'Moeilijk', 'Scratch'),  \n",
    "    Task('Meer blokken', 'https://drive.google.com/file/d/0B-5aZIp2Sz0yZ2JfeHBQSXpCYlk/view', 'Moeilijk', 'Scratch'),  \n",
    "]"
   ]
  },
  {
   "cell_type": "code",
   "execution_count": 58,
   "metadata": {},
   "outputs": [],
   "source": [
    "# HTML opdrachten\n",
    "html_tasks = [\n",
    "    Task('Beginner HTML CSS', 'https://legacy.gitbook.com/download/pdf/book/coderdojodelft/beginner-html-css-sushi-nl?lang=nl', 'Makkelijk', 'HTML')\n",
    "]"
   ]
  },
  {
   "cell_type": "code",
   "execution_count": 59,
   "metadata": {},
   "outputs": [],
   "source": [
    "# Microbit opdrachten\n",
    "microbit_tasks = [\n",
    "    Task('Meteors', 'https://legacy.gitbook.com/download/pdf/book/coderdojodelft/sushi_microbit_meteors?lang=nl', 'Makkelijk', 'Micro:bit')\n",
    "]"
   ]
  },
  {
   "cell_type": "code",
   "execution_count": 60,
   "metadata": {},
   "outputs": [],
   "source": [
    "def create_html_pages(tasks):\n",
    "    html_report = '<!DOCTYPE html><html lang=\"en\"><head><meta charset=\"UTF-8\"><title>Index</title></head><body>'\n",
    "    # Index\n",
    "    html_report += '<h1 align=\"center\">INDEX {}</h1>'.format(tasks[0].language.upper())\n",
    "    categories = list(set([x.level for x in tasks]))\n",
    "    categories.sort()\n",
    "    for category in categories:\n",
    "        html_report += '<h2>{}</h2>'.format(category)\n",
    "        html_report += '<p><ul>'\n",
    "        for task in tasks:\n",
    "            if task.level == category:\n",
    "                html_report += '<li>{}</li>'.format(task.title)\n",
    "        html_report += '</ul></p>'\n",
    "    \n",
    "    for task in tasks:\n",
    "        html_report += '<h1 style=\"page-break-before: always\" align=\"center\">{}</h1><br><br>'.format(task.title)\n",
    "        html_report += '<h3 align=\"center\">{}</h3>'.format(task.level)\n",
    "        if task.url:\n",
    "            img = qrcode.make(task.url)\n",
    "            name = task.title + '.png'\n",
    "            img.save(name, \"PNG\")\n",
    "            html_report += '<center><img src=\"{}\" alt=\"Mountain View\"></center>.'.format(name)\n",
    "            html_report += '<h3 align=\"center\">{}</h3>'.format(task.url)\n",
    "    html_report += '</body></html>'\n",
    "    \n",
    "    return html_report"
   ]
  },
  {
   "cell_type": "code",
   "execution_count": 61,
   "metadata": {},
   "outputs": [],
   "source": [
    "# Create and write all indexes\n",
    "for tasks in [python_tasks, scratch_tasks, microbit_tasks, html_tasks]:\n",
    "    tasktype = tasks[0].language\n",
    "    filename = '{}_index.html'.format(tasktype)\n",
    "    html = create_html_pages(tasks)\n",
    "    with open(filename, 'w') as f:\n",
    "        f.write(html)"
   ]
  },
  {
   "cell_type": "code",
   "execution_count": null,
   "metadata": {},
   "outputs": [],
   "source": []
  }
 ],
 "metadata": {
  "kernelspec": {
   "display_name": "Python 3",
   "language": "python",
   "name": "python3"
  },
  "language_info": {
   "codemirror_mode": {
    "name": "ipython",
    "version": 3
   },
   "file_extension": ".py",
   "mimetype": "text/x-python",
   "name": "python",
   "nbconvert_exporter": "python",
   "pygments_lexer": "ipython3",
   "version": "3.6.4"
  }
 },
 "nbformat": 4,
 "nbformat_minor": 2
}
